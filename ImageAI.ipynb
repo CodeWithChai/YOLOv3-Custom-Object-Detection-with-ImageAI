{
  "nbformat": 4,
  "nbformat_minor": 0,
  "metadata": {
    "colab": {
      "provenance": [],
      "gpuType": "T4"
    },
    "kernelspec": {
      "name": "python3",
      "display_name": "Python 3"
    },
    "language_info": {
      "name": "python"
    },
    "accelerator": "GPU"
  },
  "cells": [
    {
      "cell_type": "code",
      "source": [
        "with zipfile.ZipFile('/content/hololens-yolo.zip', 'r') as zip_ref:\n",
        "    zip_ref.extractall('/content/drive/MyDrive')"
      ],
      "metadata": {
        "id": "BadjRFAg0gV4"
      },
      "execution_count": null,
      "outputs": []
    },
    {
      "cell_type": "code",
      "source": [
        "pip install imageai --upgrade"
      ],
      "metadata": {
        "colab": {
          "base_uri": "https://localhost:8080/"
        },
        "id": "Njy7oOh42CMG",
        "outputId": "d8fcb766-1fb3-483c-c509-e1d54a122166"
      },
      "execution_count": null,
      "outputs": [
        {
          "output_type": "stream",
          "name": "stdout",
          "text": [
            "Collecting imageai\n",
            "  Downloading imageai-3.0.3-py3-none-any.whl (69 kB)\n",
            "\u001b[?25l     \u001b[90m━━━━━━━━━━━━━━━━━━━━━━━━━━━━━━━━━━━━━━━━\u001b[0m \u001b[32m0.0/69.8 kB\u001b[0m \u001b[31m?\u001b[0m eta \u001b[36m-:--:--\u001b[0m\r\u001b[2K     \u001b[90m━━━━━━━━━━━━━━━━━━━━━━━━━━━━━━━━━━━━━━━━\u001b[0m \u001b[32m69.8/69.8 kB\u001b[0m \u001b[31m1.9 MB/s\u001b[0m eta \u001b[36m0:00:00\u001b[0m\n",
            "\u001b[?25hInstalling collected packages: imageai\n",
            "Successfully installed imageai-3.0.3\n"
          ]
        }
      ]
    },
    {
      "cell_type": "code",
      "execution_count": null,
      "metadata": {
        "colab": {
          "base_uri": "https://localhost:8080/"
        },
        "id": "g6-kCDJeyupA",
        "outputId": "16a7ef70-a042-45e0-9923-a31c408b516b"
      },
      "outputs": [
        {
          "metadata": {
            "tags": null
          },
          "name": "stdout",
          "output_type": "stream",
          "text": [
            "Generating anchor boxes for training images...\n",
            "thr=0.25: 1.0000 best possible recall, 7.00 anchors past thr\n",
            "n=9, img_size=416, metric_all=0.463/0.856-mean/best, past_thr=0.545-mean: \n",
            "pretrained weight loading failed. Defaulting to using random weight.\n",
            "====================\n",
            "Pretrained YOLOv3 model loaded to initialize weights\n",
            "====================\n",
            "Epoch 1/100\n",
            "----------\n",
            "Train: \n"
          ]
        },
        {
          "metadata": {
            "tags": null
          },
          "name": "stderr",
          "output_type": "stream",
          "text": [
            "60it [00:07,  8.13it/s]\n"
          ]
        },
        {
          "metadata": {
            "tags": null
          },
          "name": "stdout",
          "output_type": "stream",
          "text": [
            "    box loss-> 0.09935, object loss-> 0.29847, class loss-> 0.00000\n",
            "Validation:\n"
          ]
        },
        {
          "metadata": {
            "tags": null
          },
          "name": "stderr",
          "output_type": "stream",
          "text": [
            "30it [02:01,  4.04s/it]\n"
          ]
        },
        {
          "metadata": {
            "tags": null
          },
          "name": "stdout",
          "output_type": "stream",
          "text": [
            "    recall: 0.342857 precision: 0.001912 mAP@0.5: 0.001173, mAP@0.5-0.95: 0.000232\n",
            "\n",
            "Epoch 2/100\n",
            "----------\n",
            "Train: \n"
          ]
        },
        {
          "metadata": {
            "tags": null
          },
          "name": "stderr",
          "output_type": "stream",
          "text": [
            "60it [00:07,  8.34it/s]\n"
          ]
        },
        {
          "metadata": {
            "tags": null
          },
          "name": "stdout",
          "output_type": "stream",
          "text": [
            "    box loss-> 0.09354, object loss-> 0.07716, class loss-> 0.00000\n",
            "Validation:\n"
          ]
        },
        {
          "metadata": {
            "tags": null
          },
          "name": "stderr",
          "output_type": "stream",
          "text": [
            "30it [01:51,  3.72s/it]\n"
          ]
        },
        {
          "metadata": {
            "tags": null
          },
          "name": "stdout",
          "output_type": "stream",
          "text": [
            "    recall: 0.100000 precision: 0.018553 mAP@0.5: 0.004918, mAP@0.5-0.95: 0.000812\n",
            "\n",
            "Epoch 3/100\n",
            "----------\n",
            "Train: \n"
          ]
        },
        {
          "metadata": {
            "tags": null
          },
          "name": "stderr",
          "output_type": "stream",
          "text": [
            "60it [00:06,  8.86it/s]\n"
          ]
        },
        {
          "metadata": {
            "tags": null
          },
          "name": "stdout",
          "output_type": "stream",
          "text": [
            "    box loss-> 0.08847, object loss-> 0.06399, class loss-> 0.00000\n",
            "Validation:\n"
          ]
        },
        {
          "metadata": {
            "tags": null
          },
          "name": "stderr",
          "output_type": "stream",
          "text": [
            "30it [01:40,  3.36s/it]\n"
          ]
        },
        {
          "metadata": {
            "tags": null
          },
          "name": "stdout",
          "output_type": "stream",
          "text": [
            "    recall: 0.185714 precision: 0.007017 mAP@0.5: 0.003600, mAP@0.5-0.95: 0.000559\n",
            "\n",
            "Epoch 4/100\n",
            "----------\n",
            "Train: \n"
          ]
        },
        {
          "metadata": {
            "tags": null
          },
          "name": "stderr",
          "output_type": "stream",
          "text": [
            "60it [00:06,  8.85it/s]\n"
          ]
        },
        {
          "metadata": {
            "tags": null
          },
          "name": "stdout",
          "output_type": "stream",
          "text": [
            "    box loss-> 0.08432, object loss-> 0.05831, class loss-> 0.00000\n",
            "Validation:\n"
          ]
        },
        {
          "metadata": {
            "tags": null
          },
          "name": "stderr",
          "output_type": "stream",
          "text": [
            "30it [01:35,  3.20s/it]\n"
          ]
        },
        {
          "metadata": {
            "tags": null
          },
          "name": "stdout",
          "output_type": "stream",
          "text": [
            "    recall: 0.100000 precision: 0.303939 mAP@0.5: 0.058637, mAP@0.5-0.95: 0.010434\n",
            "\n",
            "Epoch 5/100\n",
            "----------\n",
            "Train: \n"
          ]
        },
        {
          "metadata": {
            "tags": null
          },
          "name": "stderr",
          "output_type": "stream",
          "text": [
            "60it [00:08,  7.22it/s]\n"
          ]
        },
        {
          "metadata": {
            "tags": null
          },
          "name": "stdout",
          "output_type": "stream",
          "text": [
            "    box loss-> 0.08080, object loss-> 0.05306, class loss-> 0.00000\n",
            "Validation:\n"
          ]
        },
        {
          "metadata": {
            "tags": null
          },
          "name": "stderr",
          "output_type": "stream",
          "text": [
            "30it [01:29,  2.99s/it]\n"
          ]
        },
        {
          "metadata": {
            "tags": null
          },
          "name": "stdout",
          "output_type": "stream",
          "text": [
            "    recall: 0.228571 precision: 0.110025 mAP@0.5: 0.061966, mAP@0.5-0.95: 0.011359\n",
            "\n",
            "Epoch 6/100\n",
            "----------\n",
            "Train: \n"
          ]
        },
        {
          "metadata": {
            "tags": null
          },
          "name": "stderr",
          "output_type": "stream",
          "text": [
            "60it [00:06,  8.85it/s]\n"
          ]
        },
        {
          "metadata": {
            "tags": null
          },
          "name": "stdout",
          "output_type": "stream",
          "text": [
            "    box loss-> 0.07792, object loss-> 0.05184, class loss-> 0.00000\n",
            "Validation:\n"
          ]
        },
        {
          "metadata": {
            "tags": null
          },
          "name": "stderr",
          "output_type": "stream",
          "text": [
            "30it [01:32,  3.10s/it]\n"
          ]
        },
        {
          "metadata": {
            "tags": null
          },
          "name": "stdout",
          "output_type": "stream",
          "text": [
            "    recall: 0.128571 precision: 0.224565 mAP@0.5: 0.081625, mAP@0.5-0.95: 0.024332\n",
            "\n",
            "Epoch 7/100\n",
            "----------\n",
            "Train: \n"
          ]
        },
        {
          "metadata": {
            "tags": null
          },
          "name": "stderr",
          "output_type": "stream",
          "text": [
            "60it [00:06,  8.94it/s]\n"
          ]
        },
        {
          "metadata": {
            "tags": null
          },
          "name": "stdout",
          "output_type": "stream",
          "text": [
            "    box loss-> 0.07491, object loss-> 0.04782, class loss-> 0.00000\n",
            "Validation:\n"
          ]
        },
        {
          "metadata": {
            "tags": null
          },
          "name": "stderr",
          "output_type": "stream",
          "text": [
            "30it [01:35,  3.19s/it]\n"
          ]
        },
        {
          "metadata": {
            "tags": null
          },
          "name": "stdout",
          "output_type": "stream",
          "text": [
            "    recall: 0.185714 precision: 0.130683 mAP@0.5: 0.068887, mAP@0.5-0.95: 0.010288\n",
            "\n",
            "Epoch 8/100\n",
            "----------\n",
            "Train: \n"
          ]
        },
        {
          "metadata": {
            "tags": null
          },
          "name": "stderr",
          "output_type": "stream",
          "text": [
            "60it [00:06,  9.25it/s]\n"
          ]
        },
        {
          "metadata": {
            "tags": null
          },
          "name": "stdout",
          "output_type": "stream",
          "text": [
            "    box loss-> 0.07112, object loss-> 0.04758, class loss-> 0.00000\n",
            "Validation:\n"
          ]
        },
        {
          "metadata": {
            "tags": null
          },
          "name": "stderr",
          "output_type": "stream",
          "text": [
            "30it [01:25,  2.84s/it]\n"
          ]
        },
        {
          "metadata": {
            "tags": null
          },
          "name": "stdout",
          "output_type": "stream",
          "text": [
            "    recall: 0.385714 precision: 0.136221 mAP@0.5: 0.119047, mAP@0.5-0.95: 0.028625\n",
            "\n",
            "Epoch 9/100\n",
            "----------\n",
            "Train: \n"
          ]
        },
        {
          "metadata": {
            "tags": null
          },
          "name": "stderr",
          "output_type": "stream",
          "text": [
            "60it [00:06,  9.19it/s]\n"
          ]
        },
        {
          "metadata": {
            "tags": null
          },
          "name": "stdout",
          "output_type": "stream",
          "text": [
            "    box loss-> 0.06750, object loss-> 0.04647, class loss-> 0.00000\n",
            "Validation:\n"
          ]
        },
        {
          "metadata": {
            "tags": null
          },
          "name": "stderr",
          "output_type": "stream",
          "text": [
            "30it [01:24,  2.83s/it]\n"
          ]
        },
        {
          "metadata": {
            "tags": null
          },
          "name": "stdout",
          "output_type": "stream",
          "text": [
            "    recall: 0.227823 precision: 0.469747 mAP@0.5: 0.170563, mAP@0.5-0.95: 0.037897\n",
            "\n",
            "Epoch 10/100\n",
            "----------\n",
            "Train: \n"
          ]
        },
        {
          "metadata": {
            "tags": null
          },
          "name": "stderr",
          "output_type": "stream",
          "text": [
            "60it [00:06,  9.24it/s]\n"
          ]
        },
        {
          "metadata": {
            "tags": null
          },
          "name": "stdout",
          "output_type": "stream",
          "text": [
            "    box loss-> 0.06527, object loss-> 0.04543, class loss-> 0.00000\n",
            "Validation:\n"
          ]
        },
        {
          "metadata": {
            "tags": null
          },
          "name": "stderr",
          "output_type": "stream",
          "text": [
            "30it [01:15,  2.52s/it]\n"
          ]
        },
        {
          "metadata": {
            "tags": null
          },
          "name": "stdout",
          "output_type": "stream",
          "text": [
            "    recall: 0.471429 precision: 0.276830 mAP@0.5: 0.231172, mAP@0.5-0.95: 0.049584\n",
            "\n",
            "Epoch 11/100\n",
            "----------\n",
            "Train: \n"
          ]
        },
        {
          "metadata": {
            "tags": null
          },
          "name": "stderr",
          "output_type": "stream",
          "text": [
            "60it [00:06,  8.82it/s]\n"
          ]
        },
        {
          "metadata": {
            "tags": null
          },
          "name": "stdout",
          "output_type": "stream",
          "text": [
            "    box loss-> 0.06252, object loss-> 0.04354, class loss-> 0.00000\n",
            "Validation:\n"
          ]
        },
        {
          "metadata": {
            "tags": null
          },
          "name": "stderr",
          "output_type": "stream",
          "text": [
            "30it [01:09,  2.33s/it]\n"
          ]
        },
        {
          "metadata": {
            "tags": null
          },
          "name": "stdout",
          "output_type": "stream",
          "text": [
            "    recall: 0.400000 precision: 0.291547 mAP@0.5: 0.184192, mAP@0.5-0.95: 0.044498\n",
            "\n",
            "Epoch 12/100\n",
            "----------\n",
            "Train: \n"
          ]
        },
        {
          "metadata": {
            "tags": null
          },
          "name": "stderr",
          "output_type": "stream",
          "text": [
            "60it [00:06,  9.34it/s]\n"
          ]
        },
        {
          "metadata": {
            "tags": null
          },
          "name": "stdout",
          "output_type": "stream",
          "text": [
            "    box loss-> 0.06369, object loss-> 0.04056, class loss-> 0.00000\n",
            "Validation:\n"
          ]
        },
        {
          "metadata": {
            "tags": null
          },
          "name": "stderr",
          "output_type": "stream",
          "text": [
            "30it [01:07,  2.24s/it]\n"
          ]
        },
        {
          "metadata": {
            "tags": null
          },
          "name": "stdout",
          "output_type": "stream",
          "text": [
            "    recall: 0.285714 precision: 0.407796 mAP@0.5: 0.213691, mAP@0.5-0.95: 0.039925\n",
            "\n",
            "Epoch 13/100\n",
            "----------\n",
            "Train: \n"
          ]
        },
        {
          "metadata": {
            "tags": null
          },
          "name": "stderr",
          "output_type": "stream",
          "text": [
            "60it [00:06,  9.01it/s]\n"
          ]
        },
        {
          "metadata": {
            "tags": null
          },
          "name": "stdout",
          "output_type": "stream",
          "text": [
            "    box loss-> 0.06462, object loss-> 0.04328, class loss-> 0.00000\n",
            "Validation:\n"
          ]
        },
        {
          "metadata": {
            "tags": null
          },
          "name": "stderr",
          "output_type": "stream",
          "text": [
            "30it [01:09,  2.33s/it]\n"
          ]
        },
        {
          "metadata": {
            "tags": null
          },
          "name": "stdout",
          "output_type": "stream",
          "text": [
            "    recall: 0.385714 precision: 0.365416 mAP@0.5: 0.243092, mAP@0.5-0.95: 0.052150\n",
            "\n",
            "Epoch 14/100\n",
            "----------\n",
            "Train: \n"
          ]
        },
        {
          "metadata": {
            "tags": null
          },
          "name": "stderr",
          "output_type": "stream",
          "text": [
            "60it [00:06,  8.93it/s]\n"
          ]
        },
        {
          "metadata": {
            "tags": null
          },
          "name": "stdout",
          "output_type": "stream",
          "text": [
            "    box loss-> 0.05958, object loss-> 0.04063, class loss-> 0.00000\n",
            "Validation:\n"
          ]
        },
        {
          "metadata": {
            "tags": null
          },
          "name": "stderr",
          "output_type": "stream",
          "text": [
            "30it [00:59,  1.99s/it]\n"
          ]
        },
        {
          "metadata": {
            "tags": null
          },
          "name": "stdout",
          "output_type": "stream",
          "text": [
            "    recall: 0.371429 precision: 0.418968 mAP@0.5: 0.312808, mAP@0.5-0.95: 0.072742\n",
            "\n",
            "Epoch 15/100\n",
            "----------\n",
            "Train: \n"
          ]
        },
        {
          "metadata": {
            "tags": null
          },
          "name": "stderr",
          "output_type": "stream",
          "text": [
            "60it [00:06,  8.92it/s]\n"
          ]
        },
        {
          "metadata": {
            "tags": null
          },
          "name": "stdout",
          "output_type": "stream",
          "text": [
            "    box loss-> 0.05631, object loss-> 0.04011, class loss-> 0.00000\n",
            "Validation:\n"
          ]
        },
        {
          "metadata": {
            "tags": null
          },
          "name": "stderr",
          "output_type": "stream",
          "text": [
            "30it [01:00,  2.02s/it]\n"
          ]
        },
        {
          "metadata": {
            "tags": null
          },
          "name": "stdout",
          "output_type": "stream",
          "text": [
            "    recall: 0.442857 precision: 0.468261 mAP@0.5: 0.399851, mAP@0.5-0.95: 0.103521\n",
            "\n",
            "Epoch 16/100\n",
            "----------\n",
            "Train: \n"
          ]
        },
        {
          "metadata": {
            "tags": null
          },
          "name": "stderr",
          "output_type": "stream",
          "text": [
            "60it [00:06,  9.00it/s]\n"
          ]
        },
        {
          "metadata": {
            "tags": null
          },
          "name": "stdout",
          "output_type": "stream",
          "text": [
            "    box loss-> 0.05608, object loss-> 0.04363, class loss-> 0.00000\n",
            "Validation:\n"
          ]
        },
        {
          "metadata": {
            "tags": null
          },
          "name": "stderr",
          "output_type": "stream",
          "text": [
            "30it [00:57,  1.92s/it]\n"
          ]
        },
        {
          "metadata": {
            "tags": null
          },
          "name": "stdout",
          "output_type": "stream",
          "text": [
            "    recall: 0.414286 precision: 0.139775 mAP@0.5: 0.095226, mAP@0.5-0.95: 0.017039\n",
            "\n",
            "Epoch 17/100\n",
            "----------\n",
            "Train: \n"
          ]
        },
        {
          "metadata": {
            "tags": null
          },
          "name": "stderr",
          "output_type": "stream",
          "text": [
            "60it [00:06,  9.07it/s]\n"
          ]
        },
        {
          "metadata": {
            "tags": null
          },
          "name": "stdout",
          "output_type": "stream",
          "text": [
            "    box loss-> 0.05715, object loss-> 0.04325, class loss-> 0.00000\n",
            "Validation:\n"
          ]
        },
        {
          "metadata": {
            "tags": null
          },
          "name": "stderr",
          "output_type": "stream",
          "text": [
            "30it [00:55,  1.84s/it]\n"
          ]
        },
        {
          "metadata": {
            "tags": null
          },
          "name": "stdout",
          "output_type": "stream",
          "text": [
            "    recall: 0.328571 precision: 0.559976 mAP@0.5: 0.377761, mAP@0.5-0.95: 0.105249\n",
            "\n",
            "Epoch 18/100\n",
            "----------\n",
            "Train: \n"
          ]
        },
        {
          "metadata": {
            "tags": null
          },
          "name": "stderr",
          "output_type": "stream",
          "text": [
            "60it [00:06,  8.99it/s]\n"
          ]
        },
        {
          "metadata": {
            "tags": null
          },
          "name": "stdout",
          "output_type": "stream",
          "text": [
            "    box loss-> 0.05316, object loss-> 0.03468, class loss-> 0.00000\n",
            "Validation:\n"
          ]
        },
        {
          "metadata": {
            "tags": null
          },
          "name": "stderr",
          "output_type": "stream",
          "text": [
            "30it [00:53,  1.77s/it]\n"
          ]
        },
        {
          "metadata": {
            "tags": null
          },
          "name": "stdout",
          "output_type": "stream",
          "text": [
            "    recall: 0.457143 precision: 0.295893 mAP@0.5: 0.259824, mAP@0.5-0.95: 0.047086\n",
            "\n",
            "Epoch 19/100\n",
            "----------\n",
            "Train: \n"
          ]
        },
        {
          "metadata": {
            "tags": null
          },
          "name": "stderr",
          "output_type": "stream",
          "text": [
            "60it [00:06,  9.24it/s]\n"
          ]
        },
        {
          "metadata": {
            "tags": null
          },
          "name": "stdout",
          "output_type": "stream",
          "text": [
            "    box loss-> 0.05180, object loss-> 0.03524, class loss-> 0.00000\n",
            "Validation:\n"
          ]
        },
        {
          "metadata": {
            "tags": null
          },
          "name": "stderr",
          "output_type": "stream",
          "text": [
            "30it [00:48,  1.62s/it]\n"
          ]
        },
        {
          "metadata": {
            "tags": null
          },
          "name": "stdout",
          "output_type": "stream",
          "text": [
            "    recall: 0.385714 precision: 0.509029 mAP@0.5: 0.384191, mAP@0.5-0.95: 0.108356\n",
            "\n",
            "Epoch 20/100\n",
            "----------\n",
            "Train: \n"
          ]
        },
        {
          "metadata": {
            "tags": null
          },
          "name": "stderr",
          "output_type": "stream",
          "text": [
            "60it [00:06,  9.03it/s]\n"
          ]
        },
        {
          "metadata": {
            "tags": null
          },
          "name": "stdout",
          "output_type": "stream",
          "text": [
            "    box loss-> 0.05337, object loss-> 0.03253, class loss-> 0.00000\n",
            "Validation:\n"
          ]
        },
        {
          "metadata": {
            "tags": null
          },
          "name": "stderr",
          "output_type": "stream",
          "text": [
            "30it [00:48,  1.62s/it]\n"
          ]
        },
        {
          "metadata": {
            "tags": null
          },
          "name": "stdout",
          "output_type": "stream",
          "text": [
            "    recall: 0.470724 precision: 0.499621 mAP@0.5: 0.366548, mAP@0.5-0.95: 0.121064\n",
            "\n",
            "Epoch 21/100\n",
            "----------\n",
            "Train: \n"
          ]
        },
        {
          "metadata": {
            "tags": null
          },
          "name": "stderr",
          "output_type": "stream",
          "text": [
            "60it [00:06,  9.36it/s]\n"
          ]
        },
        {
          "metadata": {
            "tags": null
          },
          "name": "stdout",
          "output_type": "stream",
          "text": [
            "    box loss-> 0.04642, object loss-> 0.02899, class loss-> 0.00000\n",
            "Validation:\n"
          ]
        },
        {
          "metadata": {
            "tags": null
          },
          "name": "stderr",
          "output_type": "stream",
          "text": [
            "30it [00:45,  1.51s/it]\n"
          ]
        },
        {
          "metadata": {
            "tags": null
          },
          "name": "stdout",
          "output_type": "stream",
          "text": [
            "    recall: 0.500000 precision: 0.368094 mAP@0.5: 0.327229, mAP@0.5-0.95: 0.087129\n",
            "\n",
            "Epoch 22/100\n",
            "----------\n",
            "Train: \n"
          ]
        },
        {
          "metadata": {
            "tags": null
          },
          "name": "stderr",
          "output_type": "stream",
          "text": [
            "60it [00:06,  9.40it/s]\n"
          ]
        },
        {
          "metadata": {
            "tags": null
          },
          "name": "stdout",
          "output_type": "stream",
          "text": [
            "    box loss-> 0.04654, object loss-> 0.02767, class loss-> 0.00000\n",
            "Validation:\n"
          ]
        },
        {
          "metadata": {
            "tags": null
          },
          "name": "stderr",
          "output_type": "stream",
          "text": [
            "30it [00:43,  1.46s/it]\n"
          ]
        },
        {
          "metadata": {
            "tags": null
          },
          "name": "stdout",
          "output_type": "stream",
          "text": [
            "    recall: 0.500000 precision: 0.399553 mAP@0.5: 0.330534, mAP@0.5-0.95: 0.097889\n",
            "\n",
            "Epoch 23/100\n",
            "----------\n",
            "Train: \n"
          ]
        },
        {
          "metadata": {
            "tags": null
          },
          "name": "stderr",
          "output_type": "stream",
          "text": [
            "60it [00:06,  9.39it/s]\n"
          ]
        },
        {
          "metadata": {
            "tags": null
          },
          "name": "stdout",
          "output_type": "stream",
          "text": [
            "    box loss-> 0.04545, object loss-> 0.02586, class loss-> 0.00000\n",
            "Validation:\n"
          ]
        },
        {
          "metadata": {
            "tags": null
          },
          "name": "stderr",
          "output_type": "stream",
          "text": [
            "30it [00:42,  1.42s/it]\n"
          ]
        },
        {
          "metadata": {
            "tags": null
          },
          "name": "stdout",
          "output_type": "stream",
          "text": [
            "    recall: 0.399489 precision: 0.444124 mAP@0.5: 0.351840, mAP@0.5-0.95: 0.087544\n",
            "\n",
            "Epoch 24/100\n",
            "----------\n",
            "Train: \n"
          ]
        },
        {
          "metadata": {
            "tags": null
          },
          "name": "stderr",
          "output_type": "stream",
          "text": [
            "60it [00:06,  9.40it/s]\n"
          ]
        },
        {
          "metadata": {
            "tags": null
          },
          "name": "stdout",
          "output_type": "stream",
          "text": [
            "    box loss-> 0.04944, object loss-> 0.02563, class loss-> 0.00000\n",
            "Validation:\n"
          ]
        },
        {
          "metadata": {
            "tags": null
          },
          "name": "stderr",
          "output_type": "stream",
          "text": [
            "30it [00:37,  1.27s/it]\n"
          ]
        },
        {
          "metadata": {
            "tags": null
          },
          "name": "stdout",
          "output_type": "stream",
          "text": [
            "    recall: 0.556750 precision: 0.469702 mAP@0.5: 0.429945, mAP@0.5-0.95: 0.105398\n",
            "\n",
            "Epoch 25/100\n",
            "----------\n",
            "Train: \n"
          ]
        },
        {
          "metadata": {
            "tags": null
          },
          "name": "stderr",
          "output_type": "stream",
          "text": [
            "60it [00:06,  9.10it/s]\n"
          ]
        },
        {
          "metadata": {
            "tags": null
          },
          "name": "stdout",
          "output_type": "stream",
          "text": [
            "    box loss-> 0.04434, object loss-> 0.02546, class loss-> 0.00000\n",
            "Validation:\n"
          ]
        },
        {
          "metadata": {
            "tags": null
          },
          "name": "stderr",
          "output_type": "stream",
          "text": [
            "30it [00:35,  1.18s/it]\n"
          ]
        },
        {
          "metadata": {
            "tags": null
          },
          "name": "stdout",
          "output_type": "stream",
          "text": [
            "    recall: 0.400000 precision: 0.559071 mAP@0.5: 0.457143, mAP@0.5-0.95: 0.177611\n",
            "\n",
            "Epoch 26/100\n",
            "----------\n",
            "Train: \n"
          ]
        },
        {
          "metadata": {
            "tags": null
          },
          "name": "stderr",
          "output_type": "stream",
          "text": [
            "60it [00:06,  9.30it/s]\n"
          ]
        },
        {
          "metadata": {
            "tags": null
          },
          "name": "stdout",
          "output_type": "stream",
          "text": [
            "    box loss-> 0.03855, object loss-> 0.02420, class loss-> 0.00000\n",
            "Validation:\n"
          ]
        },
        {
          "output_type": "stream",
          "name": "stderr",
          "text": [
            "30it [00:34,  1.16s/it]\n"
          ]
        },
        {
          "output_type": "stream",
          "name": "stdout",
          "text": [
            "    recall: 0.457143 precision: 0.626738 mAP@0.5: 0.492095, mAP@0.5-0.95: 0.174522\n",
            "\n",
            "Epoch 27/100\n",
            "----------\n",
            "Train: \n"
          ]
        },
        {
          "output_type": "stream",
          "name": "stderr",
          "text": [
            "60it [00:06,  9.04it/s]\n"
          ]
        },
        {
          "output_type": "stream",
          "name": "stdout",
          "text": [
            "    box loss-> 0.04138, object loss-> 0.02287, class loss-> 0.00000\n",
            "Validation:\n"
          ]
        },
        {
          "output_type": "stream",
          "name": "stderr",
          "text": [
            "30it [00:32,  1.08s/it]\n"
          ]
        },
        {
          "output_type": "stream",
          "name": "stdout",
          "text": [
            "    recall: 0.400000 precision: 0.635718 mAP@0.5: 0.461671, mAP@0.5-0.95: 0.148305\n",
            "\n",
            "Epoch 28/100\n",
            "----------\n",
            "Train: \n"
          ]
        },
        {
          "output_type": "stream",
          "name": "stderr",
          "text": [
            "60it [00:06,  9.08it/s]\n"
          ]
        },
        {
          "output_type": "stream",
          "name": "stdout",
          "text": [
            "    box loss-> 0.04221, object loss-> 0.02236, class loss-> 0.00000\n",
            "Validation:\n"
          ]
        },
        {
          "output_type": "stream",
          "name": "stderr",
          "text": [
            "30it [00:31,  1.04s/it]\n"
          ]
        },
        {
          "output_type": "stream",
          "name": "stdout",
          "text": [
            "    recall: 0.528393 precision: 0.480434 mAP@0.5: 0.475131, mAP@0.5-0.95: 0.128290\n",
            "\n",
            "Epoch 29/100\n",
            "----------\n",
            "Train: \n"
          ]
        },
        {
          "output_type": "stream",
          "name": "stderr",
          "text": [
            "60it [00:06,  8.97it/s]\n"
          ]
        },
        {
          "output_type": "stream",
          "name": "stdout",
          "text": [
            "    box loss-> 0.04118, object loss-> 0.02381, class loss-> 0.00000\n",
            "Validation:\n"
          ]
        },
        {
          "output_type": "stream",
          "name": "stderr",
          "text": [
            "30it [00:29,  1.02it/s]\n"
          ]
        },
        {
          "output_type": "stream",
          "name": "stdout",
          "text": [
            "    recall: 0.657143 precision: 0.511007 mAP@0.5: 0.555042, mAP@0.5-0.95: 0.207575\n",
            "\n",
            "Epoch 30/100\n",
            "----------\n",
            "Train: \n"
          ]
        },
        {
          "output_type": "stream",
          "name": "stderr",
          "text": [
            "60it [00:06,  8.92it/s]\n"
          ]
        },
        {
          "output_type": "stream",
          "name": "stdout",
          "text": [
            "    box loss-> 0.03654, object loss-> 0.02203, class loss-> 0.00000\n",
            "Validation:\n"
          ]
        },
        {
          "output_type": "stream",
          "name": "stderr",
          "text": [
            "30it [00:28,  1.05it/s]\n"
          ]
        },
        {
          "output_type": "stream",
          "name": "stdout",
          "text": [
            "    recall: 0.671429 precision: 0.421378 mAP@0.5: 0.530820, mAP@0.5-0.95: 0.184139\n",
            "\n",
            "Epoch 31/100\n",
            "----------\n",
            "Train: \n"
          ]
        },
        {
          "output_type": "stream",
          "name": "stderr",
          "text": [
            "60it [00:06,  9.25it/s]\n"
          ]
        },
        {
          "output_type": "stream",
          "name": "stdout",
          "text": [
            "    box loss-> 0.03427, object loss-> 0.02071, class loss-> 0.00000\n",
            "Validation:\n"
          ]
        },
        {
          "output_type": "stream",
          "name": "stderr",
          "text": [
            "30it [00:28,  1.05it/s]\n"
          ]
        },
        {
          "output_type": "stream",
          "name": "stdout",
          "text": [
            "    recall: 0.628571 precision: 0.558987 mAP@0.5: 0.552802, mAP@0.5-0.95: 0.199463\n",
            "\n",
            "Epoch 32/100\n",
            "----------\n",
            "Train: \n"
          ]
        },
        {
          "output_type": "stream",
          "name": "stderr",
          "text": [
            "60it [00:06,  9.42it/s]\n"
          ]
        },
        {
          "output_type": "stream",
          "name": "stdout",
          "text": [
            "    box loss-> 0.03608, object loss-> 0.01918, class loss-> 0.00000\n",
            "Validation:\n"
          ]
        },
        {
          "output_type": "stream",
          "name": "stderr",
          "text": [
            "30it [00:26,  1.12it/s]\n"
          ]
        },
        {
          "output_type": "stream",
          "name": "stdout",
          "text": [
            "    recall: 0.542857 precision: 0.655068 mAP@0.5: 0.581450, mAP@0.5-0.95: 0.184240\n",
            "\n",
            "Epoch 33/100\n",
            "----------\n",
            "Train: \n"
          ]
        },
        {
          "output_type": "stream",
          "name": "stderr",
          "text": [
            "60it [00:06,  9.06it/s]\n"
          ]
        },
        {
          "output_type": "stream",
          "name": "stdout",
          "text": [
            "    box loss-> 0.03551, object loss-> 0.01955, class loss-> 0.00000\n",
            "Validation:\n"
          ]
        },
        {
          "output_type": "stream",
          "name": "stderr",
          "text": [
            "30it [00:27,  1.09it/s]\n"
          ]
        },
        {
          "output_type": "stream",
          "name": "stdout",
          "text": [
            "    recall: 0.642857 precision: 0.511312 mAP@0.5: 0.514938, mAP@0.5-0.95: 0.182568\n",
            "\n",
            "Epoch 34/100\n",
            "----------\n",
            "Train: \n"
          ]
        },
        {
          "output_type": "stream",
          "name": "stderr",
          "text": [
            "60it [00:06,  9.09it/s]\n"
          ]
        },
        {
          "output_type": "stream",
          "name": "stdout",
          "text": [
            "    box loss-> 0.03214, object loss-> 0.01963, class loss-> 0.00000\n",
            "Validation:\n"
          ]
        },
        {
          "output_type": "stream",
          "name": "stderr",
          "text": [
            "30it [00:24,  1.22it/s]\n"
          ]
        },
        {
          "output_type": "stream",
          "name": "stdout",
          "text": [
            "    recall: 0.571032 precision: 0.605892 mAP@0.5: 0.558217, mAP@0.5-0.95: 0.198917\n",
            "\n",
            "Epoch 35/100\n",
            "----------\n",
            "Train: \n"
          ]
        },
        {
          "output_type": "stream",
          "name": "stderr",
          "text": [
            "60it [00:06,  9.45it/s]\n"
          ]
        },
        {
          "output_type": "stream",
          "name": "stdout",
          "text": [
            "    box loss-> 0.03342, object loss-> 0.01917, class loss-> 0.00000\n",
            "Validation:\n"
          ]
        },
        {
          "output_type": "stream",
          "name": "stderr",
          "text": [
            "30it [00:24,  1.23it/s]\n"
          ]
        },
        {
          "output_type": "stream",
          "name": "stdout",
          "text": [
            "    recall: 0.642831 precision: 0.459174 mAP@0.5: 0.511972, mAP@0.5-0.95: 0.204912\n",
            "\n",
            "Epoch 36/100\n",
            "----------\n",
            "Train: \n"
          ]
        },
        {
          "output_type": "stream",
          "name": "stderr",
          "text": [
            "60it [00:06,  8.58it/s]\n"
          ]
        },
        {
          "output_type": "stream",
          "name": "stdout",
          "text": [
            "    box loss-> 0.03087, object loss-> 0.01846, class loss-> 0.00000\n",
            "Validation:\n"
          ]
        },
        {
          "output_type": "stream",
          "name": "stderr",
          "text": [
            "30it [00:24,  1.24it/s]\n"
          ]
        },
        {
          "output_type": "stream",
          "name": "stdout",
          "text": [
            "    recall: 0.614286 precision: 0.521800 mAP@0.5: 0.555698, mAP@0.5-0.95: 0.129034\n",
            "\n",
            "Epoch 37/100\n",
            "----------\n",
            "Train: \n"
          ]
        },
        {
          "output_type": "stream",
          "name": "stderr",
          "text": [
            "60it [00:06,  9.33it/s]\n"
          ]
        },
        {
          "output_type": "stream",
          "name": "stdout",
          "text": [
            "    box loss-> 0.02955, object loss-> 0.01868, class loss-> 0.00000\n",
            "Validation:\n"
          ]
        },
        {
          "output_type": "stream",
          "name": "stderr",
          "text": [
            "30it [00:24,  1.21it/s]\n"
          ]
        },
        {
          "output_type": "stream",
          "name": "stdout",
          "text": [
            "    recall: 0.599491 precision: 0.599793 mAP@0.5: 0.571232, mAP@0.5-0.95: 0.217513\n",
            "\n",
            "Epoch 38/100\n",
            "----------\n",
            "Train: \n"
          ]
        },
        {
          "output_type": "stream",
          "name": "stderr",
          "text": [
            "60it [00:06,  9.08it/s]\n"
          ]
        },
        {
          "output_type": "stream",
          "name": "stdout",
          "text": [
            "    box loss-> 0.03008, object loss-> 0.01841, class loss-> 0.00000\n",
            "Validation:\n"
          ]
        },
        {
          "output_type": "stream",
          "name": "stderr",
          "text": [
            "30it [00:24,  1.24it/s]\n"
          ]
        },
        {
          "output_type": "stream",
          "name": "stdout",
          "text": [
            "    recall: 0.585714 precision: 0.593177 mAP@0.5: 0.532967, mAP@0.5-0.95: 0.199595\n",
            "\n",
            "Epoch 39/100\n",
            "----------\n",
            "Train: \n"
          ]
        },
        {
          "output_type": "stream",
          "name": "stderr",
          "text": [
            "60it [00:06,  9.27it/s]\n"
          ]
        },
        {
          "output_type": "stream",
          "name": "stdout",
          "text": [
            "    box loss-> 0.02682, object loss-> 0.01734, class loss-> 0.00000\n",
            "Validation:\n"
          ]
        },
        {
          "output_type": "stream",
          "name": "stderr",
          "text": [
            "30it [00:23,  1.28it/s]\n"
          ]
        },
        {
          "output_type": "stream",
          "name": "stdout",
          "text": [
            "    recall: 0.614286 precision: 0.565406 mAP@0.5: 0.581079, mAP@0.5-0.95: 0.210438\n",
            "\n",
            "Epoch 40/100\n",
            "----------\n",
            "Train: \n"
          ]
        },
        {
          "output_type": "stream",
          "name": "stderr",
          "text": [
            "60it [00:06,  9.33it/s]\n"
          ]
        },
        {
          "output_type": "stream",
          "name": "stdout",
          "text": [
            "    box loss-> 0.02967, object loss-> 0.01796, class loss-> 0.00000\n",
            "Validation:\n"
          ]
        },
        {
          "output_type": "stream",
          "name": "stderr",
          "text": [
            "30it [00:22,  1.31it/s]\n"
          ]
        },
        {
          "output_type": "stream",
          "name": "stdout",
          "text": [
            "    recall: 0.571429 precision: 0.554901 mAP@0.5: 0.515552, mAP@0.5-0.95: 0.175943\n",
            "\n",
            "Epoch 41/100\n",
            "----------\n",
            "Train: \n"
          ]
        },
        {
          "output_type": "stream",
          "name": "stderr",
          "text": [
            "60it [00:06,  9.05it/s]\n"
          ]
        },
        {
          "output_type": "stream",
          "name": "stdout",
          "text": [
            "    box loss-> 0.02784, object loss-> 0.01689, class loss-> 0.00000\n",
            "Validation:\n"
          ]
        },
        {
          "output_type": "stream",
          "name": "stderr",
          "text": [
            "30it [00:18,  1.59it/s]\n"
          ]
        },
        {
          "output_type": "stream",
          "name": "stdout",
          "text": [
            "    recall: 0.500000 precision: 0.744387 mAP@0.5: 0.589042, mAP@0.5-0.95: 0.223718\n",
            "\n",
            "Epoch 42/100\n",
            "----------\n",
            "Train: \n"
          ]
        },
        {
          "output_type": "stream",
          "name": "stderr",
          "text": [
            "60it [00:06,  8.97it/s]\n"
          ]
        },
        {
          "output_type": "stream",
          "name": "stdout",
          "text": [
            "    box loss-> 0.02912, object loss-> 0.01648, class loss-> 0.00000\n",
            "Validation:\n"
          ]
        },
        {
          "output_type": "stream",
          "name": "stderr",
          "text": [
            "30it [00:20,  1.44it/s]\n"
          ]
        },
        {
          "output_type": "stream",
          "name": "stdout",
          "text": [
            "    recall: 0.599656 precision: 0.666537 mAP@0.5: 0.564624, mAP@0.5-0.95: 0.170625\n",
            "\n",
            "Epoch 43/100\n",
            "----------\n",
            "Train: \n"
          ]
        },
        {
          "output_type": "stream",
          "name": "stderr",
          "text": [
            "60it [00:06,  9.35it/s]\n"
          ]
        },
        {
          "output_type": "stream",
          "name": "stdout",
          "text": [
            "    box loss-> 0.02596, object loss-> 0.01649, class loss-> 0.00000\n",
            "Validation:\n"
          ]
        },
        {
          "output_type": "stream",
          "name": "stderr",
          "text": [
            "30it [00:19,  1.51it/s]\n"
          ]
        },
        {
          "output_type": "stream",
          "name": "stdout",
          "text": [
            "    recall: 0.599985 precision: 0.531639 mAP@0.5: 0.545669, mAP@0.5-0.95: 0.207466\n",
            "\n",
            "Epoch 44/100\n",
            "----------\n",
            "Train: \n"
          ]
        },
        {
          "output_type": "stream",
          "name": "stderr",
          "text": [
            "60it [00:06,  9.42it/s]\n"
          ]
        },
        {
          "output_type": "stream",
          "name": "stdout",
          "text": [
            "    box loss-> 0.02558, object loss-> 0.01621, class loss-> 0.00000\n",
            "Validation:\n"
          ]
        },
        {
          "output_type": "stream",
          "name": "stderr",
          "text": [
            "30it [00:19,  1.52it/s]\n"
          ]
        },
        {
          "output_type": "stream",
          "name": "stdout",
          "text": [
            "    recall: 0.600000 precision: 0.574645 mAP@0.5: 0.581711, mAP@0.5-0.95: 0.215064\n",
            "\n",
            "Epoch 45/100\n",
            "----------\n",
            "Train: \n"
          ]
        },
        {
          "output_type": "stream",
          "name": "stderr",
          "text": [
            "60it [00:06,  9.23it/s]\n"
          ]
        },
        {
          "output_type": "stream",
          "name": "stdout",
          "text": [
            "    box loss-> 0.02223, object loss-> 0.01469, class loss-> 0.00000\n",
            "Validation:\n"
          ]
        },
        {
          "output_type": "stream",
          "name": "stderr",
          "text": [
            "30it [00:18,  1.59it/s]\n"
          ]
        },
        {
          "output_type": "stream",
          "name": "stdout",
          "text": [
            "    recall: 0.671429 precision: 0.510373 mAP@0.5: 0.557184, mAP@0.5-0.95: 0.208651\n",
            "\n",
            "Epoch 46/100\n",
            "----------\n",
            "Train: \n"
          ]
        },
        {
          "output_type": "stream",
          "name": "stderr",
          "text": [
            "60it [00:06,  9.41it/s]\n"
          ]
        },
        {
          "output_type": "stream",
          "name": "stdout",
          "text": [
            "    box loss-> 0.02690, object loss-> 0.01632, class loss-> 0.00000\n",
            "Validation:\n"
          ]
        },
        {
          "output_type": "stream",
          "name": "stderr",
          "text": [
            "30it [00:19,  1.53it/s]\n"
          ]
        },
        {
          "output_type": "stream",
          "name": "stdout",
          "text": [
            "    recall: 0.642857 precision: 0.499505 mAP@0.5: 0.560605, mAP@0.5-0.95: 0.211540\n",
            "\n",
            "Epoch 47/100\n",
            "----------\n",
            "Train: \n"
          ]
        },
        {
          "output_type": "stream",
          "name": "stderr",
          "text": [
            "60it [00:06,  9.43it/s]\n"
          ]
        },
        {
          "output_type": "stream",
          "name": "stdout",
          "text": [
            "    box loss-> 0.02431, object loss-> 0.01660, class loss-> 0.00000\n",
            "Validation:\n"
          ]
        },
        {
          "output_type": "stream",
          "name": "stderr",
          "text": [
            "30it [00:20,  1.46it/s]\n"
          ]
        },
        {
          "output_type": "stream",
          "name": "stdout",
          "text": [
            "    recall: 0.642824 precision: 0.473671 mAP@0.5: 0.515607, mAP@0.5-0.95: 0.180422\n",
            "\n",
            "Epoch 48/100\n",
            "----------\n",
            "Train: \n"
          ]
        },
        {
          "output_type": "stream",
          "name": "stderr",
          "text": [
            "60it [00:06,  9.22it/s]\n"
          ]
        },
        {
          "output_type": "stream",
          "name": "stdout",
          "text": [
            "    box loss-> 0.02483, object loss-> 0.01550, class loss-> 0.00000\n",
            "Validation:\n"
          ]
        },
        {
          "output_type": "stream",
          "name": "stderr",
          "text": [
            "30it [00:19,  1.55it/s]\n"
          ]
        },
        {
          "output_type": "stream",
          "name": "stdout",
          "text": [
            "    recall: 0.685714 precision: 0.509939 mAP@0.5: 0.604445, mAP@0.5-0.95: 0.227921\n",
            "\n",
            "Epoch 49/100\n",
            "----------\n",
            "Train: \n"
          ]
        },
        {
          "output_type": "stream",
          "name": "stderr",
          "text": [
            "60it [00:06,  8.86it/s]\n"
          ]
        },
        {
          "output_type": "stream",
          "name": "stdout",
          "text": [
            "    box loss-> 0.02280, object loss-> 0.01429, class loss-> 0.00000\n",
            "Validation:\n"
          ]
        },
        {
          "output_type": "stream",
          "name": "stderr",
          "text": [
            "30it [00:19,  1.54it/s]\n"
          ]
        },
        {
          "output_type": "stream",
          "name": "stdout",
          "text": [
            "    recall: 0.614286 precision: 0.550861 mAP@0.5: 0.571574, mAP@0.5-0.95: 0.225336\n",
            "\n",
            "Epoch 50/100\n",
            "----------\n",
            "Train: \n"
          ]
        },
        {
          "output_type": "stream",
          "name": "stderr",
          "text": [
            "60it [00:06,  8.97it/s]\n"
          ]
        },
        {
          "output_type": "stream",
          "name": "stdout",
          "text": [
            "    box loss-> 0.02305, object loss-> 0.01472, class loss-> 0.00000\n",
            "Validation:\n"
          ]
        },
        {
          "output_type": "stream",
          "name": "stderr",
          "text": [
            "30it [00:17,  1.68it/s]\n"
          ]
        },
        {
          "output_type": "stream",
          "name": "stdout",
          "text": [
            "    recall: 0.628571 precision: 0.571345 mAP@0.5: 0.570111, mAP@0.5-0.95: 0.237534\n",
            "\n",
            "Epoch 51/100\n",
            "----------\n",
            "Train: \n"
          ]
        },
        {
          "output_type": "stream",
          "name": "stderr",
          "text": [
            "60it [00:06,  9.06it/s]\n"
          ]
        },
        {
          "output_type": "stream",
          "name": "stdout",
          "text": [
            "    box loss-> 0.02408, object loss-> 0.01459, class loss-> 0.00000\n",
            "Validation:\n"
          ]
        },
        {
          "output_type": "stream",
          "name": "stderr",
          "text": [
            "30it [00:16,  1.81it/s]\n"
          ]
        },
        {
          "output_type": "stream",
          "name": "stdout",
          "text": [
            "    recall: 0.570816 precision: 0.596753 mAP@0.5: 0.554073, mAP@0.5-0.95: 0.207813\n",
            "\n",
            "Epoch 52/100\n",
            "----------\n",
            "Train: \n"
          ]
        },
        {
          "output_type": "stream",
          "name": "stderr",
          "text": [
            "60it [00:06,  9.08it/s]\n"
          ]
        },
        {
          "output_type": "stream",
          "name": "stdout",
          "text": [
            "    box loss-> 0.02363, object loss-> 0.01437, class loss-> 0.00000\n",
            "Validation:\n"
          ]
        },
        {
          "output_type": "stream",
          "name": "stderr",
          "text": [
            "30it [00:16,  1.83it/s]\n"
          ]
        },
        {
          "output_type": "stream",
          "name": "stdout",
          "text": [
            "    recall: 0.657143 precision: 0.553769 mAP@0.5: 0.582315, mAP@0.5-0.95: 0.231990\n",
            "\n",
            "Epoch 53/100\n",
            "----------\n",
            "Train: \n"
          ]
        },
        {
          "output_type": "stream",
          "name": "stderr",
          "text": [
            "60it [00:06,  9.40it/s]\n"
          ]
        },
        {
          "output_type": "stream",
          "name": "stdout",
          "text": [
            "    box loss-> 0.02132, object loss-> 0.01342, class loss-> 0.00000\n",
            "Validation:\n"
          ]
        },
        {
          "output_type": "stream",
          "name": "stderr",
          "text": [
            "30it [00:15,  1.91it/s]\n"
          ]
        },
        {
          "output_type": "stream",
          "name": "stdout",
          "text": [
            "    recall: 0.614064 precision: 0.597134 mAP@0.5: 0.573804, mAP@0.5-0.95: 0.222633\n",
            "\n",
            "Epoch 54/100\n",
            "----------\n",
            "Train: \n"
          ]
        },
        {
          "output_type": "stream",
          "name": "stderr",
          "text": [
            "60it [00:06,  9.30it/s]\n"
          ]
        },
        {
          "output_type": "stream",
          "name": "stdout",
          "text": [
            "    box loss-> 0.02176, object loss-> 0.01469, class loss-> 0.00000\n",
            "Validation:\n"
          ]
        },
        {
          "output_type": "stream",
          "name": "stderr",
          "text": [
            "30it [00:15,  1.95it/s]\n"
          ]
        },
        {
          "output_type": "stream",
          "name": "stdout",
          "text": [
            "    recall: 0.657143 precision: 0.540907 mAP@0.5: 0.568745, mAP@0.5-0.95: 0.208876\n",
            "\n",
            "Epoch 55/100\n",
            "----------\n",
            "Train: \n"
          ]
        },
        {
          "output_type": "stream",
          "name": "stderr",
          "text": [
            "60it [00:06,  9.15it/s]\n"
          ]
        },
        {
          "output_type": "stream",
          "name": "stdout",
          "text": [
            "    box loss-> 0.02189, object loss-> 0.01438, class loss-> 0.00000\n",
            "Validation:\n"
          ]
        },
        {
          "output_type": "stream",
          "name": "stderr",
          "text": [
            "30it [00:16,  1.80it/s]\n"
          ]
        },
        {
          "output_type": "stream",
          "name": "stdout",
          "text": [
            "    recall: 0.528571 precision: 0.606468 mAP@0.5: 0.571727, mAP@0.5-0.95: 0.205652\n",
            "\n",
            "Epoch 56/100\n",
            "----------\n",
            "Train: \n"
          ]
        },
        {
          "output_type": "stream",
          "name": "stderr",
          "text": [
            "60it [00:06,  8.90it/s]\n"
          ]
        },
        {
          "output_type": "stream",
          "name": "stdout",
          "text": [
            "    box loss-> 0.02062, object loss-> 0.01325, class loss-> 0.00000\n",
            "Validation:\n"
          ]
        },
        {
          "output_type": "stream",
          "name": "stderr",
          "text": [
            "30it [00:16,  1.86it/s]\n"
          ]
        },
        {
          "output_type": "stream",
          "name": "stdout",
          "text": [
            "    recall: 0.728270 precision: 0.499896 mAP@0.5: 0.532718, mAP@0.5-0.95: 0.171329\n",
            "\n",
            "Epoch 57/100\n",
            "----------\n",
            "Train: \n"
          ]
        },
        {
          "output_type": "stream",
          "name": "stderr",
          "text": [
            "60it [00:06,  9.04it/s]\n"
          ]
        },
        {
          "output_type": "stream",
          "name": "stdout",
          "text": [
            "    box loss-> 0.01820, object loss-> 0.01261, class loss-> 0.00000\n",
            "Validation:\n"
          ]
        },
        {
          "output_type": "stream",
          "name": "stderr",
          "text": [
            "30it [00:15,  1.95it/s]\n"
          ]
        },
        {
          "output_type": "stream",
          "name": "stdout",
          "text": [
            "    recall: 0.727697 precision: 0.554048 mAP@0.5: 0.588084, mAP@0.5-0.95: 0.241089\n",
            "\n",
            "Epoch 58/100\n",
            "----------\n",
            "Train: \n"
          ]
        },
        {
          "output_type": "stream",
          "name": "stderr",
          "text": [
            "60it [00:06,  9.39it/s]\n"
          ]
        },
        {
          "output_type": "stream",
          "name": "stdout",
          "text": [
            "    box loss-> 0.01821, object loss-> 0.01327, class loss-> 0.00000\n",
            "Validation:\n"
          ]
        },
        {
          "output_type": "stream",
          "name": "stderr",
          "text": [
            "30it [00:15,  1.92it/s]\n"
          ]
        },
        {
          "output_type": "stream",
          "name": "stdout",
          "text": [
            "    recall: 0.771429 precision: 0.513798 mAP@0.5: 0.577416, mAP@0.5-0.95: 0.216702\n",
            "\n",
            "Epoch 59/100\n",
            "----------\n",
            "Train: \n"
          ]
        },
        {
          "output_type": "stream",
          "name": "stderr",
          "text": [
            "60it [00:06,  9.36it/s]\n"
          ]
        },
        {
          "output_type": "stream",
          "name": "stdout",
          "text": [
            "    box loss-> 0.01948, object loss-> 0.01284, class loss-> 0.00000\n",
            "Validation:\n"
          ]
        },
        {
          "output_type": "stream",
          "name": "stderr",
          "text": [
            "30it [00:14,  2.08it/s]\n"
          ]
        },
        {
          "output_type": "stream",
          "name": "stdout",
          "text": [
            "    recall: 0.642857 precision: 0.599814 mAP@0.5: 0.583529, mAP@0.5-0.95: 0.209210\n",
            "\n",
            "Epoch 60/100\n",
            "----------\n",
            "Train: \n"
          ]
        },
        {
          "output_type": "stream",
          "name": "stderr",
          "text": [
            "60it [00:06,  9.02it/s]\n"
          ]
        },
        {
          "output_type": "stream",
          "name": "stdout",
          "text": [
            "    box loss-> 0.01805, object loss-> 0.01254, class loss-> 0.00000\n",
            "Validation:\n"
          ]
        },
        {
          "output_type": "stream",
          "name": "stderr",
          "text": [
            "30it [00:14,  2.11it/s]\n"
          ]
        },
        {
          "output_type": "stream",
          "name": "stdout",
          "text": [
            "    recall: 0.656951 precision: 0.547546 mAP@0.5: 0.550013, mAP@0.5-0.95: 0.205114\n",
            "\n",
            "Epoch 61/100\n",
            "----------\n",
            "Train: \n"
          ]
        },
        {
          "output_type": "stream",
          "name": "stderr",
          "text": [
            "60it [00:06,  9.34it/s]\n"
          ]
        },
        {
          "output_type": "stream",
          "name": "stdout",
          "text": [
            "    box loss-> 0.01634, object loss-> 0.01138, class loss-> 0.00000\n",
            "Validation:\n"
          ]
        },
        {
          "output_type": "stream",
          "name": "stderr",
          "text": [
            "30it [00:15,  1.92it/s]\n"
          ]
        },
        {
          "output_type": "stream",
          "name": "stdout",
          "text": [
            "    recall: 0.685714 precision: 0.514013 mAP@0.5: 0.560986, mAP@0.5-0.95: 0.214859\n",
            "\n",
            "Epoch 62/100\n",
            "----------\n",
            "Train: \n"
          ]
        },
        {
          "output_type": "stream",
          "name": "stderr",
          "text": [
            "60it [00:06,  9.37it/s]\n"
          ]
        },
        {
          "output_type": "stream",
          "name": "stdout",
          "text": [
            "    box loss-> 0.01760, object loss-> 0.01319, class loss-> 0.00000\n",
            "Validation:\n"
          ]
        },
        {
          "output_type": "stream",
          "name": "stderr",
          "text": [
            "30it [00:15,  1.96it/s]\n"
          ]
        },
        {
          "output_type": "stream",
          "name": "stdout",
          "text": [
            "    recall: 0.628571 precision: 0.594085 mAP@0.5: 0.589670, mAP@0.5-0.95: 0.216069\n",
            "\n",
            "Epoch 63/100\n",
            "----------\n",
            "Train: \n"
          ]
        },
        {
          "output_type": "stream",
          "name": "stderr",
          "text": [
            "60it [00:06,  9.07it/s]\n"
          ]
        },
        {
          "output_type": "stream",
          "name": "stdout",
          "text": [
            "    box loss-> 0.01949, object loss-> 0.01210, class loss-> 0.00000\n",
            "Validation:\n"
          ]
        },
        {
          "output_type": "stream",
          "name": "stderr",
          "text": [
            "30it [00:15,  1.93it/s]\n"
          ]
        },
        {
          "output_type": "stream",
          "name": "stdout",
          "text": [
            "    recall: 0.600000 precision: 0.608295 mAP@0.5: 0.592349, mAP@0.5-0.95: 0.224545\n",
            "\n",
            "Epoch 64/100\n",
            "----------\n",
            "Train: \n"
          ]
        },
        {
          "output_type": "stream",
          "name": "stderr",
          "text": [
            "60it [00:06,  9.03it/s]\n"
          ]
        },
        {
          "output_type": "stream",
          "name": "stdout",
          "text": [
            "    box loss-> 0.01962, object loss-> 0.01273, class loss-> 0.00000\n",
            "Validation:\n"
          ]
        },
        {
          "output_type": "stream",
          "name": "stderr",
          "text": [
            "30it [00:14,  2.05it/s]\n"
          ]
        },
        {
          "output_type": "stream",
          "name": "stdout",
          "text": [
            "    recall: 0.671429 precision: 0.527403 mAP@0.5: 0.537260, mAP@0.5-0.95: 0.226645\n",
            "\n",
            "Epoch 65/100\n",
            "----------\n",
            "Train: \n"
          ]
        },
        {
          "output_type": "stream",
          "name": "stderr",
          "text": [
            "60it [00:06,  9.42it/s]\n"
          ]
        },
        {
          "output_type": "stream",
          "name": "stdout",
          "text": [
            "    box loss-> 0.01670, object loss-> 0.01231, class loss-> 0.00000\n",
            "Validation:\n"
          ]
        },
        {
          "output_type": "stream",
          "name": "stderr",
          "text": [
            "30it [00:15,  1.98it/s]\n"
          ]
        },
        {
          "output_type": "stream",
          "name": "stdout",
          "text": [
            "    recall: 0.585218 precision: 0.532254 mAP@0.5: 0.507925, mAP@0.5-0.95: 0.158625\n",
            "\n",
            "Epoch 66/100\n",
            "----------\n",
            "Train: \n"
          ]
        },
        {
          "output_type": "stream",
          "name": "stderr",
          "text": [
            "60it [00:06,  9.31it/s]\n"
          ]
        },
        {
          "output_type": "stream",
          "name": "stdout",
          "text": [
            "    box loss-> 0.01554, object loss-> 0.01112, class loss-> 0.00000\n",
            "Validation:\n"
          ]
        },
        {
          "output_type": "stream",
          "name": "stderr",
          "text": [
            "30it [00:14,  2.02it/s]\n"
          ]
        },
        {
          "output_type": "stream",
          "name": "stdout",
          "text": [
            "    recall: 0.656954 precision: 0.522655 mAP@0.5: 0.544469, mAP@0.5-0.95: 0.202139\n",
            "\n",
            "Epoch 67/100\n",
            "----------\n",
            "Train: \n"
          ]
        },
        {
          "output_type": "stream",
          "name": "stderr",
          "text": [
            "60it [00:06,  9.12it/s]\n"
          ]
        },
        {
          "output_type": "stream",
          "name": "stdout",
          "text": [
            "    box loss-> 0.01689, object loss-> 0.01209, class loss-> 0.00000\n",
            "Validation:\n"
          ]
        },
        {
          "output_type": "stream",
          "name": "stderr",
          "text": [
            "30it [00:14,  2.09it/s]\n"
          ]
        },
        {
          "output_type": "stream",
          "name": "stdout",
          "text": [
            "    recall: 0.685552 precision: 0.564647 mAP@0.5: 0.566212, mAP@0.5-0.95: 0.216257\n",
            "\n",
            "Epoch 68/100\n",
            "----------\n",
            "Train: \n"
          ]
        },
        {
          "output_type": "stream",
          "name": "stderr",
          "text": [
            "60it [00:06,  8.87it/s]\n"
          ]
        },
        {
          "output_type": "stream",
          "name": "stdout",
          "text": [
            "    box loss-> 0.01520, object loss-> 0.01124, class loss-> 0.00000\n",
            "Validation:\n"
          ]
        },
        {
          "output_type": "stream",
          "name": "stderr",
          "text": [
            "30it [00:15,  1.97it/s]\n"
          ]
        },
        {
          "output_type": "stream",
          "name": "stdout",
          "text": [
            "    recall: 0.614286 precision: 0.587846 mAP@0.5: 0.561363, mAP@0.5-0.95: 0.200896\n",
            "\n",
            "Epoch 69/100\n",
            "----------\n",
            "Train: \n"
          ]
        },
        {
          "output_type": "stream",
          "name": "stderr",
          "text": [
            "60it [00:06,  9.31it/s]\n"
          ]
        },
        {
          "output_type": "stream",
          "name": "stdout",
          "text": [
            "    box loss-> 0.01370, object loss-> 0.01066, class loss-> 0.00000\n",
            "Validation:\n"
          ]
        },
        {
          "output_type": "stream",
          "name": "stderr",
          "text": [
            "30it [00:13,  2.16it/s]\n"
          ]
        },
        {
          "output_type": "stream",
          "name": "stdout",
          "text": [
            "    recall: 0.728571 precision: 0.495066 mAP@0.5: 0.573069, mAP@0.5-0.95: 0.222441\n",
            "\n",
            "Epoch 70/100\n",
            "----------\n",
            "Train: \n"
          ]
        },
        {
          "output_type": "stream",
          "name": "stderr",
          "text": [
            "60it [00:06,  9.03it/s]\n"
          ]
        },
        {
          "output_type": "stream",
          "name": "stdout",
          "text": [
            "    box loss-> 0.01459, object loss-> 0.01083, class loss-> 0.00000\n",
            "Validation:\n"
          ]
        },
        {
          "output_type": "stream",
          "name": "stderr",
          "text": [
            "30it [00:13,  2.15it/s]\n"
          ]
        },
        {
          "output_type": "stream",
          "name": "stdout",
          "text": [
            "    recall: 0.742857 precision: 0.535339 mAP@0.5: 0.550440, mAP@0.5-0.95: 0.213299\n",
            "\n",
            "Epoch 71/100\n",
            "----------\n",
            "Train: \n"
          ]
        },
        {
          "output_type": "stream",
          "name": "stderr",
          "text": [
            "60it [00:06,  9.44it/s]\n"
          ]
        },
        {
          "output_type": "stream",
          "name": "stdout",
          "text": [
            "    box loss-> 0.01467, object loss-> 0.01100, class loss-> 0.00000\n",
            "Validation:\n"
          ]
        },
        {
          "output_type": "stream",
          "name": "stderr",
          "text": [
            "30it [00:14,  2.11it/s]\n"
          ]
        },
        {
          "output_type": "stream",
          "name": "stdout",
          "text": [
            "    recall: 0.642857 precision: 0.561863 mAP@0.5: 0.564073, mAP@0.5-0.95: 0.211189\n",
            "\n",
            "Epoch 72/100\n",
            "----------\n",
            "Train: \n"
          ]
        },
        {
          "output_type": "stream",
          "name": "stderr",
          "text": [
            "60it [00:06,  9.24it/s]\n"
          ]
        },
        {
          "output_type": "stream",
          "name": "stdout",
          "text": [
            "    box loss-> 0.01488, object loss-> 0.01078, class loss-> 0.00000\n",
            "Validation:\n"
          ]
        },
        {
          "output_type": "stream",
          "name": "stderr",
          "text": [
            "30it [00:14,  2.14it/s]\n"
          ]
        },
        {
          "output_type": "stream",
          "name": "stdout",
          "text": [
            "    recall: 0.685597 precision: 0.558097 mAP@0.5: 0.591563, mAP@0.5-0.95: 0.239294\n",
            "\n",
            "Epoch 73/100\n",
            "----------\n",
            "Train: \n"
          ]
        },
        {
          "output_type": "stream",
          "name": "stderr",
          "text": [
            "60it [00:06,  9.01it/s]\n"
          ]
        },
        {
          "output_type": "stream",
          "name": "stdout",
          "text": [
            "    box loss-> 0.01382, object loss-> 0.01084, class loss-> 0.00000\n",
            "Validation:\n"
          ]
        },
        {
          "output_type": "stream",
          "name": "stderr",
          "text": [
            "30it [00:14,  2.12it/s]\n"
          ]
        },
        {
          "output_type": "stream",
          "name": "stdout",
          "text": [
            "    recall: 0.685491 precision: 0.494763 mAP@0.5: 0.557941, mAP@0.5-0.95: 0.201390\n",
            "\n",
            "Epoch 74/100\n",
            "----------\n",
            "Train: \n"
          ]
        },
        {
          "output_type": "stream",
          "name": "stderr",
          "text": [
            "60it [00:06,  9.42it/s]\n"
          ]
        },
        {
          "output_type": "stream",
          "name": "stdout",
          "text": [
            "    box loss-> 0.01239, object loss-> 0.00954, class loss-> 0.00000\n",
            "Validation:\n"
          ]
        },
        {
          "output_type": "stream",
          "name": "stderr",
          "text": [
            "30it [00:15,  1.97it/s]\n"
          ]
        },
        {
          "output_type": "stream",
          "name": "stdout",
          "text": [
            "    recall: 0.628373 precision: 0.578869 mAP@0.5: 0.583790, mAP@0.5-0.95: 0.215115\n",
            "\n",
            "Epoch 75/100\n",
            "----------\n",
            "Train: \n"
          ]
        },
        {
          "output_type": "stream",
          "name": "stderr",
          "text": [
            "60it [00:06,  9.30it/s]\n"
          ]
        },
        {
          "output_type": "stream",
          "name": "stdout",
          "text": [
            "    box loss-> 0.01273, object loss-> 0.00966, class loss-> 0.00000\n",
            "Validation:\n"
          ]
        },
        {
          "output_type": "stream",
          "name": "stderr",
          "text": [
            "30it [00:14,  2.13it/s]\n"
          ]
        },
        {
          "output_type": "stream",
          "name": "stdout",
          "text": [
            "    recall: 0.642857 precision: 0.489109 mAP@0.5: 0.544843, mAP@0.5-0.95: 0.186395\n",
            "\n",
            "Epoch 76/100\n",
            "----------\n",
            "Train: \n"
          ]
        },
        {
          "output_type": "stream",
          "name": "stderr",
          "text": [
            "60it [00:06,  9.10it/s]\n"
          ]
        },
        {
          "output_type": "stream",
          "name": "stdout",
          "text": [
            "    box loss-> 0.01470, object loss-> 0.01045, class loss-> 0.00000\n",
            "Validation:\n"
          ]
        },
        {
          "output_type": "stream",
          "name": "stderr",
          "text": [
            "30it [00:13,  2.22it/s]\n"
          ]
        },
        {
          "output_type": "stream",
          "name": "stdout",
          "text": [
            "    recall: 0.585714 precision: 0.630684 mAP@0.5: 0.571899, mAP@0.5-0.95: 0.211501\n",
            "\n",
            "Epoch 77/100\n",
            "----------\n",
            "Train: \n"
          ]
        },
        {
          "output_type": "stream",
          "name": "stderr",
          "text": [
            "60it [00:06,  9.42it/s]\n"
          ]
        },
        {
          "output_type": "stream",
          "name": "stdout",
          "text": [
            "    box loss-> 0.01257, object loss-> 0.00899, class loss-> 0.00000\n",
            "Validation:\n"
          ]
        },
        {
          "output_type": "stream",
          "name": "stderr",
          "text": [
            "30it [00:13,  2.26it/s]\n"
          ]
        },
        {
          "output_type": "stream",
          "name": "stdout",
          "text": [
            "    recall: 0.714286 precision: 0.505044 mAP@0.5: 0.587705, mAP@0.5-0.95: 0.231626\n",
            "\n",
            "Epoch 78/100\n",
            "----------\n",
            "Train: \n"
          ]
        },
        {
          "output_type": "stream",
          "name": "stderr",
          "text": [
            "60it [00:06,  9.11it/s]\n"
          ]
        },
        {
          "output_type": "stream",
          "name": "stdout",
          "text": [
            "    box loss-> 0.01135, object loss-> 0.00903, class loss-> 0.00000\n",
            "Validation:\n"
          ]
        },
        {
          "output_type": "stream",
          "name": "stderr",
          "text": [
            "30it [00:13,  2.25it/s]\n"
          ]
        },
        {
          "output_type": "stream",
          "name": "stdout",
          "text": [
            "    recall: 0.571429 precision: 0.597001 mAP@0.5: 0.578719, mAP@0.5-0.95: 0.212353\n",
            "\n",
            "Epoch 79/100\n",
            "----------\n",
            "Train: \n"
          ]
        },
        {
          "output_type": "stream",
          "name": "stderr",
          "text": [
            "60it [00:06,  9.41it/s]\n"
          ]
        },
        {
          "output_type": "stream",
          "name": "stdout",
          "text": [
            "    box loss-> 0.01226, object loss-> 0.01045, class loss-> 0.00000\n",
            "Validation:\n"
          ]
        },
        {
          "output_type": "stream",
          "name": "stderr",
          "text": [
            "30it [00:14,  2.11it/s]\n"
          ]
        },
        {
          "output_type": "stream",
          "name": "stdout",
          "text": [
            "    recall: 0.585714 precision: 0.585559 mAP@0.5: 0.555106, mAP@0.5-0.95: 0.207676\n",
            "\n",
            "Epoch 80/100\n",
            "----------\n",
            "Train: \n"
          ]
        },
        {
          "output_type": "stream",
          "name": "stderr",
          "text": [
            "60it [00:06,  9.27it/s]\n"
          ]
        },
        {
          "output_type": "stream",
          "name": "stdout",
          "text": [
            "    box loss-> 0.01172, object loss-> 0.00969, class loss-> 0.00000\n",
            "Validation:\n"
          ]
        },
        {
          "output_type": "stream",
          "name": "stderr",
          "text": [
            "30it [00:14,  2.12it/s]\n"
          ]
        },
        {
          "output_type": "stream",
          "name": "stdout",
          "text": [
            "    recall: 0.671429 precision: 0.522064 mAP@0.5: 0.570159, mAP@0.5-0.95: 0.211960\n",
            "\n",
            "Epoch 81/100\n",
            "----------\n",
            "Train: \n"
          ]
        },
        {
          "output_type": "stream",
          "name": "stderr",
          "text": [
            "60it [00:06,  8.96it/s]\n"
          ]
        },
        {
          "output_type": "stream",
          "name": "stdout",
          "text": [
            "    box loss-> 0.01093, object loss-> 0.00919, class loss-> 0.00000\n",
            "Validation:\n"
          ]
        },
        {
          "output_type": "stream",
          "name": "stderr",
          "text": [
            "30it [00:13,  2.19it/s]\n"
          ]
        },
        {
          "output_type": "stream",
          "name": "stdout",
          "text": [
            "    recall: 0.571429 precision: 0.644463 mAP@0.5: 0.591938, mAP@0.5-0.95: 0.234983\n",
            "\n",
            "Epoch 82/100\n",
            "----------\n",
            "Train: \n"
          ]
        },
        {
          "output_type": "stream",
          "name": "stderr",
          "text": [
            "60it [00:06,  9.42it/s]\n"
          ]
        },
        {
          "output_type": "stream",
          "name": "stdout",
          "text": [
            "    box loss-> 0.01047, object loss-> 0.00864, class loss-> 0.00000\n",
            "Validation:\n"
          ]
        },
        {
          "output_type": "stream",
          "name": "stderr",
          "text": [
            "30it [00:13,  2.20it/s]\n"
          ]
        },
        {
          "output_type": "stream",
          "name": "stdout",
          "text": [
            "    recall: 0.700000 precision: 0.544140 mAP@0.5: 0.575288, mAP@0.5-0.95: 0.205544\n",
            "\n",
            "Epoch 83/100\n",
            "----------\n",
            "Train: \n"
          ]
        },
        {
          "output_type": "stream",
          "name": "stderr",
          "text": [
            "60it [00:06,  9.11it/s]\n"
          ]
        },
        {
          "output_type": "stream",
          "name": "stdout",
          "text": [
            "    box loss-> 0.00987, object loss-> 0.00795, class loss-> 0.00000\n",
            "Validation:\n"
          ]
        },
        {
          "output_type": "stream",
          "name": "stderr",
          "text": [
            "30it [00:13,  2.25it/s]\n"
          ]
        },
        {
          "output_type": "stream",
          "name": "stdout",
          "text": [
            "    recall: 0.685714 precision: 0.484237 mAP@0.5: 0.552614, mAP@0.5-0.95: 0.217808\n",
            "\n",
            "Epoch 84/100\n",
            "----------\n",
            "Train: \n"
          ]
        },
        {
          "output_type": "stream",
          "name": "stderr",
          "text": [
            "60it [00:06,  9.24it/s]\n"
          ]
        },
        {
          "output_type": "stream",
          "name": "stdout",
          "text": [
            "    box loss-> 0.01023, object loss-> 0.00829, class loss-> 0.00000\n",
            "Validation:\n"
          ]
        },
        {
          "output_type": "stream",
          "name": "stderr",
          "text": [
            "30it [00:13,  2.16it/s]\n"
          ]
        },
        {
          "output_type": "stream",
          "name": "stdout",
          "text": [
            "    recall: 0.699612 precision: 0.521137 mAP@0.5: 0.577821, mAP@0.5-0.95: 0.211340\n",
            "\n",
            "Epoch 85/100\n",
            "----------\n",
            "Train: \n"
          ]
        },
        {
          "output_type": "stream",
          "name": "stderr",
          "text": [
            "60it [00:06,  9.34it/s]\n"
          ]
        },
        {
          "output_type": "stream",
          "name": "stdout",
          "text": [
            "    box loss-> 0.00977, object loss-> 0.00815, class loss-> 0.00000\n",
            "Validation:\n"
          ]
        },
        {
          "output_type": "stream",
          "name": "stderr",
          "text": [
            "30it [00:13,  2.16it/s]\n"
          ]
        },
        {
          "output_type": "stream",
          "name": "stdout",
          "text": [
            "    recall: 0.671429 precision: 0.527946 mAP@0.5: 0.571452, mAP@0.5-0.95: 0.224369\n",
            "\n",
            "Epoch 86/100\n",
            "----------\n",
            "Train: \n"
          ]
        },
        {
          "output_type": "stream",
          "name": "stderr",
          "text": [
            "60it [00:06,  9.06it/s]\n"
          ]
        },
        {
          "output_type": "stream",
          "name": "stdout",
          "text": [
            "    box loss-> 0.00897, object loss-> 0.00776, class loss-> 0.00000\n",
            "Validation:\n"
          ]
        },
        {
          "output_type": "stream",
          "name": "stderr",
          "text": [
            "30it [00:12,  2.33it/s]\n"
          ]
        },
        {
          "output_type": "stream",
          "name": "stdout",
          "text": [
            "    recall: 0.714286 precision: 0.542208 mAP@0.5: 0.578928, mAP@0.5-0.95: 0.216170\n",
            "\n",
            "Epoch 87/100\n",
            "----------\n",
            "Train: \n"
          ]
        },
        {
          "output_type": "stream",
          "name": "stderr",
          "text": [
            "60it [00:06,  9.45it/s]\n"
          ]
        },
        {
          "output_type": "stream",
          "name": "stdout",
          "text": [
            "    box loss-> 0.00841, object loss-> 0.00732, class loss-> 0.00000\n",
            "Validation:\n"
          ]
        },
        {
          "output_type": "stream",
          "name": "stderr",
          "text": [
            "30it [00:13,  2.30it/s]\n"
          ]
        },
        {
          "output_type": "stream",
          "name": "stdout",
          "text": [
            "    recall: 0.571429 precision: 0.677155 mAP@0.5: 0.581171, mAP@0.5-0.95: 0.211947\n",
            "\n",
            "Epoch 88/100\n",
            "----------\n",
            "Train: \n"
          ]
        },
        {
          "output_type": "stream",
          "name": "stderr",
          "text": [
            "60it [00:06,  9.11it/s]\n"
          ]
        },
        {
          "output_type": "stream",
          "name": "stdout",
          "text": [
            "    box loss-> 0.00917, object loss-> 0.00814, class loss-> 0.00000\n",
            "Validation:\n"
          ]
        },
        {
          "output_type": "stream",
          "name": "stderr",
          "text": [
            "30it [00:13,  2.24it/s]\n"
          ]
        },
        {
          "output_type": "stream",
          "name": "stdout",
          "text": [
            "    recall: 0.685714 precision: 0.570663 mAP@0.5: 0.593055, mAP@0.5-0.95: 0.229487\n",
            "\n",
            "Epoch 89/100\n",
            "----------\n",
            "Train: \n"
          ]
        },
        {
          "output_type": "stream",
          "name": "stderr",
          "text": [
            "60it [00:06,  9.41it/s]\n"
          ]
        },
        {
          "output_type": "stream",
          "name": "stdout",
          "text": [
            "    box loss-> 0.00869, object loss-> 0.00794, class loss-> 0.00000\n",
            "Validation:\n"
          ]
        },
        {
          "output_type": "stream",
          "name": "stderr",
          "text": [
            "30it [00:12,  2.31it/s]\n"
          ]
        },
        {
          "output_type": "stream",
          "name": "stdout",
          "text": [
            "    recall: 0.685663 precision: 0.527454 mAP@0.5: 0.589879, mAP@0.5-0.95: 0.205055\n",
            "\n",
            "Epoch 90/100\n",
            "----------\n",
            "Train: \n"
          ]
        },
        {
          "output_type": "stream",
          "name": "stderr",
          "text": [
            "60it [00:06,  8.98it/s]\n"
          ]
        },
        {
          "output_type": "stream",
          "name": "stdout",
          "text": [
            "    box loss-> 0.00793, object loss-> 0.00704, class loss-> 0.00000\n",
            "Validation:\n"
          ]
        },
        {
          "output_type": "stream",
          "name": "stderr",
          "text": [
            "30it [00:12,  2.33it/s]\n"
          ]
        },
        {
          "output_type": "stream",
          "name": "stdout",
          "text": [
            "    recall: 0.699565 precision: 0.556663 mAP@0.5: 0.595895, mAP@0.5-0.95: 0.216206\n",
            "\n",
            "Epoch 91/100\n",
            "----------\n",
            "Train: \n"
          ]
        },
        {
          "output_type": "stream",
          "name": "stderr",
          "text": [
            "60it [00:06,  9.27it/s]\n"
          ]
        },
        {
          "output_type": "stream",
          "name": "stdout",
          "text": [
            "    box loss-> 0.00775, object loss-> 0.00679, class loss-> 0.00000\n",
            "Validation:\n"
          ]
        },
        {
          "output_type": "stream",
          "name": "stderr",
          "text": [
            "30it [00:13,  2.19it/s]\n"
          ]
        },
        {
          "output_type": "stream",
          "name": "stdout",
          "text": [
            "    recall: 0.700000 precision: 0.538171 mAP@0.5: 0.586624, mAP@0.5-0.95: 0.210853\n",
            "\n",
            "Epoch 92/100\n",
            "----------\n",
            "Train: \n"
          ]
        },
        {
          "output_type": "stream",
          "name": "stderr",
          "text": [
            "60it [00:06,  9.31it/s]\n"
          ]
        },
        {
          "output_type": "stream",
          "name": "stdout",
          "text": [
            "    box loss-> 0.00797, object loss-> 0.00691, class loss-> 0.00000\n",
            "Validation:\n"
          ]
        },
        {
          "output_type": "stream",
          "name": "stderr",
          "text": [
            "30it [00:12,  2.33it/s]\n"
          ]
        },
        {
          "output_type": "stream",
          "name": "stdout",
          "text": [
            "    recall: 0.728571 precision: 0.525664 mAP@0.5: 0.585868, mAP@0.5-0.95: 0.210614\n",
            "\n",
            "Epoch 93/100\n",
            "----------\n",
            "Train: \n"
          ]
        },
        {
          "output_type": "stream",
          "name": "stderr",
          "text": [
            "60it [00:06,  9.08it/s]\n"
          ]
        },
        {
          "output_type": "stream",
          "name": "stdout",
          "text": [
            "    box loss-> 0.00732, object loss-> 0.00654, class loss-> 0.00000\n",
            "Validation:\n"
          ]
        },
        {
          "output_type": "stream",
          "name": "stderr",
          "text": [
            "30it [00:13,  2.17it/s]\n"
          ]
        },
        {
          "output_type": "stream",
          "name": "stdout",
          "text": [
            "    recall: 0.628087 precision: 0.571237 mAP@0.5: 0.579505, mAP@0.5-0.95: 0.219724\n",
            "\n",
            "Epoch 94/100\n",
            "----------\n",
            "Train: \n"
          ]
        },
        {
          "output_type": "stream",
          "name": "stderr",
          "text": [
            "60it [00:06,  9.24it/s]\n"
          ]
        },
        {
          "output_type": "stream",
          "name": "stdout",
          "text": [
            "    box loss-> 0.00723, object loss-> 0.00646, class loss-> 0.00000\n",
            "Validation:\n"
          ]
        },
        {
          "output_type": "stream",
          "name": "stderr",
          "text": [
            "30it [00:12,  2.32it/s]\n"
          ]
        },
        {
          "output_type": "stream",
          "name": "stdout",
          "text": [
            "    recall: 0.628571 precision: 0.586281 mAP@0.5: 0.588733, mAP@0.5-0.95: 0.219756\n",
            "\n",
            "Epoch 95/100\n",
            "----------\n",
            "Train: \n"
          ]
        },
        {
          "output_type": "stream",
          "name": "stderr",
          "text": [
            "60it [00:06,  9.06it/s]\n"
          ]
        },
        {
          "output_type": "stream",
          "name": "stdout",
          "text": [
            "    box loss-> 0.00700, object loss-> 0.00637, class loss-> 0.00000\n",
            "Validation:\n"
          ]
        },
        {
          "output_type": "stream",
          "name": "stderr",
          "text": [
            "30it [00:12,  2.37it/s]\n"
          ]
        },
        {
          "output_type": "stream",
          "name": "stdout",
          "text": [
            "    recall: 0.700000 precision: 0.550338 mAP@0.5: 0.583009, mAP@0.5-0.95: 0.215981\n",
            "\n",
            "Epoch 96/100\n",
            "----------\n",
            "Train: \n"
          ]
        },
        {
          "output_type": "stream",
          "name": "stderr",
          "text": [
            "60it [00:06,  9.47it/s]\n"
          ]
        },
        {
          "output_type": "stream",
          "name": "stdout",
          "text": [
            "    box loss-> 0.00698, object loss-> 0.00626, class loss-> 0.00000\n",
            "Validation:\n"
          ]
        },
        {
          "output_type": "stream",
          "name": "stderr",
          "text": [
            "30it [00:13,  2.24it/s]\n"
          ]
        },
        {
          "output_type": "stream",
          "name": "stdout",
          "text": [
            "    recall: 0.657137 precision: 0.554215 mAP@0.5: 0.586600, mAP@0.5-0.95: 0.212856\n",
            "\n",
            "Epoch 97/100\n",
            "----------\n",
            "Train: \n"
          ]
        },
        {
          "output_type": "stream",
          "name": "stderr",
          "text": [
            "60it [00:06,  9.15it/s]\n"
          ]
        },
        {
          "output_type": "stream",
          "name": "stdout",
          "text": [
            "    box loss-> 0.00693, object loss-> 0.00628, class loss-> 0.00000\n",
            "Validation:\n"
          ]
        },
        {
          "output_type": "stream",
          "name": "stderr",
          "text": [
            "30it [00:12,  2.41it/s]\n"
          ]
        },
        {
          "output_type": "stream",
          "name": "stdout",
          "text": [
            "    recall: 0.613388 precision: 0.572971 mAP@0.5: 0.573523, mAP@0.5-0.95: 0.198717\n",
            "\n",
            "Epoch 98/100\n",
            "----------\n",
            "Train: \n"
          ]
        },
        {
          "output_type": "stream",
          "name": "stderr",
          "text": [
            "60it [00:06,  9.35it/s]\n"
          ]
        },
        {
          "output_type": "stream",
          "name": "stdout",
          "text": [
            "    box loss-> 0.00687, object loss-> 0.00621, class loss-> 0.00000\n",
            "Validation:\n"
          ]
        },
        {
          "output_type": "stream",
          "name": "stderr",
          "text": [
            "30it [00:13,  2.26it/s]\n"
          ]
        },
        {
          "output_type": "stream",
          "name": "stdout",
          "text": [
            "    recall: 0.700000 precision: 0.499898 mAP@0.5: 0.568455, mAP@0.5-0.95: 0.207284\n",
            "\n",
            "Epoch 99/100\n",
            "----------\n",
            "Train: \n"
          ]
        },
        {
          "output_type": "stream",
          "name": "stderr",
          "text": [
            "60it [00:06,  9.23it/s]\n"
          ]
        },
        {
          "output_type": "stream",
          "name": "stdout",
          "text": [
            "    box loss-> 0.00665, object loss-> 0.00609, class loss-> 0.00000\n",
            "Validation:\n"
          ]
        },
        {
          "output_type": "stream",
          "name": "stderr",
          "text": [
            "30it [00:12,  2.34it/s]\n"
          ]
        },
        {
          "output_type": "stream",
          "name": "stdout",
          "text": [
            "    recall: 0.714286 precision: 0.520739 mAP@0.5: 0.588325, mAP@0.5-0.95: 0.209650\n",
            "\n",
            "Epoch 100/100\n",
            "----------\n",
            "Train: \n"
          ]
        },
        {
          "output_type": "stream",
          "name": "stderr",
          "text": [
            "60it [00:06,  9.26it/s]\n"
          ]
        },
        {
          "output_type": "stream",
          "name": "stdout",
          "text": [
            "    box loss-> 0.00657, object loss-> 0.00600, class loss-> 0.00000\n",
            "Validation:\n"
          ]
        },
        {
          "output_type": "stream",
          "name": "stderr",
          "text": [
            "30it [00:12,  2.35it/s]\n"
          ]
        },
        {
          "output_type": "stream",
          "name": "stdout",
          "text": [
            "    recall: 0.714286 precision: 0.525708 mAP@0.5: 0.588120, mAP@0.5-0.95: 0.212720\n",
            "\n",
            "Training completed in 62m 29s\n"
          ]
        }
      ],
      "source": [
        "from imageai.Detection.Custom import DetectionModelTrainer\n",
        "\n",
        "trainer = DetectionModelTrainer()\n",
        "trainer.setModelTypeAsYOLOv3()\n",
        "trainer.setDataDirectory(data_directory=\"/content/drive/MyDrive/hololens-yolo\")\n",
        "trainer.setTrainConfig(object_names_array=[\"hololens\"], batch_size=4, num_experiments=100, train_from_pretrained_model=\"yolov3.pt\")\n",
        "# In the above,when training for detecting multiple objects,\n",
        "#set object_names_array=[\"object1\", \"object2\", \"object3\",...\"objectz\"]\n",
        "trainer.trainModel()"
      ]
    },
    {
      "cell_type": "code",
      "source": [
        "from imageai.Detection.Custom import CustomObjectDetection\n",
        "\n",
        "detector = CustomObjectDetection()\n",
        "detector.setModelTypeAsYOLOv3()\n",
        "detector.setModelPath(\"/content/drive/MyDrive/hololens-yolo/models/yolov3_hololens-yolo_last.pt\")\n",
        "detector.setJsonPath(\"/content/drive/MyDrive/hololens-yolo/json/hololens-yolo_yolov3_detection_config.json\")\n",
        "detector.loadModel()\n",
        "detections = detector.detectObjectsFromImage(input_image=\"holo2.jpg\", output_image_path=\"holo2-detected.jpg\")\n",
        "for detection in detections:\n",
        "    print(detection[\"name\"], \" : \", detection[\"percentage_probability\"], \" : \", detection[\"box_points\"])\n"
      ],
      "metadata": {
        "colab": {
          "base_uri": "https://localhost:8080/"
        },
        "id": "mFCLLEMcKSm2",
        "outputId": "aac39df6-3842-4f62-8cbf-04ad30e03537"
      },
      "execution_count": null,
      "outputs": [
        {
          "output_type": "stream",
          "name": "stdout",
          "text": [
            "hololens  :  50.18  :  [231, 48, 609, 235]\n"
          ]
        }
      ]
    },
    {
      "cell_type": "markdown",
      "source": [
        "TESTING"
      ],
      "metadata": {
        "id": "u5S_AkQQMMRm"
      }
    },
    {
      "cell_type": "code",
      "source": [
        "!pip install Pillow matplotlib\n"
      ],
      "metadata": {
        "colab": {
          "base_uri": "https://localhost:8080/"
        },
        "id": "FRCbd-naOTj0",
        "outputId": "793db423-e5a2-4ea1-84ee-4606dbb4b028"
      },
      "execution_count": null,
      "outputs": [
        {
          "output_type": "stream",
          "name": "stdout",
          "text": [
            "Requirement already satisfied: Pillow in /usr/local/lib/python3.10/dist-packages (9.4.0)\n",
            "Requirement already satisfied: matplotlib in /usr/local/lib/python3.10/dist-packages (3.7.1)\n",
            "Requirement already satisfied: contourpy>=1.0.1 in /usr/local/lib/python3.10/dist-packages (from matplotlib) (1.1.1)\n",
            "Requirement already satisfied: cycler>=0.10 in /usr/local/lib/python3.10/dist-packages (from matplotlib) (0.12.1)\n",
            "Requirement already satisfied: fonttools>=4.22.0 in /usr/local/lib/python3.10/dist-packages (from matplotlib) (4.43.1)\n",
            "Requirement already satisfied: kiwisolver>=1.0.1 in /usr/local/lib/python3.10/dist-packages (from matplotlib) (1.4.5)\n",
            "Requirement already satisfied: numpy>=1.20 in /usr/local/lib/python3.10/dist-packages (from matplotlib) (1.23.5)\n",
            "Requirement already satisfied: packaging>=20.0 in /usr/local/lib/python3.10/dist-packages (from matplotlib) (23.2)\n",
            "Requirement already satisfied: pyparsing>=2.3.1 in /usr/local/lib/python3.10/dist-packages (from matplotlib) (3.1.1)\n",
            "Requirement already satisfied: python-dateutil>=2.7 in /usr/local/lib/python3.10/dist-packages (from matplotlib) (2.8.2)\n",
            "Requirement already satisfied: six>=1.5 in /usr/local/lib/python3.10/dist-packages (from python-dateutil>=2.7->matplotlib) (1.16.0)\n"
          ]
        }
      ]
    },
    {
      "cell_type": "code",
      "source": [
        "!pip install opencv-python\n"
      ],
      "metadata": {
        "colab": {
          "base_uri": "https://localhost:8080/"
        },
        "id": "SzXTTID4Ozd7",
        "outputId": "e54a64f3-d732-4364-906a-9a5de805c224"
      },
      "execution_count": null,
      "outputs": [
        {
          "output_type": "stream",
          "name": "stdout",
          "text": [
            "Requirement already satisfied: opencv-python in /usr/local/lib/python3.10/dist-packages (4.8.0.76)\n",
            "Requirement already satisfied: numpy>=1.21.2 in /usr/local/lib/python3.10/dist-packages (from opencv-python) (1.23.5)\n"
          ]
        }
      ]
    },
    {
      "cell_type": "code",
      "source": [
        "from imageai.Detection.Custom import CustomObjectDetection\n",
        "from google.colab.patches import cv2_imshow  # Import cv2_imshow for Colab\n",
        "\n",
        "detector = CustomObjectDetection()\n",
        "detector.setModelTypeAsYOLOv3()\n",
        "detector.setModelPath(\"/content/drive/MyDrive/hololens-yolo/models/yolov3_hololens-yolo_last.pt\"#find under models folder\n",
        "detector.setJsonPath(\"/content/drive/MyDrive/hololens-yolo/json/hololens-yolo_yolov3_detection_config.json\") #copy the json folder path\n",
        "detector.loadModel()\n",
        "detections = detector.detectObjectsFromImage(input_image=\"holo2.jpg\", output_image_path=\"holo2-detected.jpg\")\n",
        "\n",
        "# Open and display the detected image using cv2_imshow (Colab-specific)\n",
        "detected_image = cv2.imread(\"holo2-detected.jpg\")\n",
        "cv2_imshow(detected_image)\n",
        "\n",
        "for detection in detections:\n",
        "    print(detection[\"name\"], \" : \", detection[\"percentage_probability\"], \" : \", detection[\"box_points\"])\n"
      ],
      "metadata": {
        "colab": {
          "base_uri": "https://localhost:8080/",
          "height": 445
        },
        "id": "Hj6YXYvCO2oO",
        "outputId": "376d09cd-c05b-48fe-c6d3-60633d7cb3f0"
      },
      "execution_count": null,
      "outputs": [
        {
          "output_type": "display_data",
          "data": {
            "text/plain": [
              "<PIL.Image.Image image mode=RGB size=850x425>"
            ],
            "image/png": "[encoded data removed]"
          },
          "metadata": {}
        },
        {
          "output_type": "stream",
          "name": "stdout",
          "text": [
            "hololens  :  50.18  :  [231, 48, 609, 235]\n"
          ]
        }
      ]
    }
  ]
}